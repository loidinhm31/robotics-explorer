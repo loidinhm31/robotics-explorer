{
 "cells": [
  {
   "cell_type": "markdown",
   "source": [
    "# Take Action!\n",
    "\n",
    "![alt text](images/screen-shot-2017-05-08-at-5.28.39-pm.png)"
   ],
   "metadata": {
    "collapsed": false
   },
   "id": "cfd39851c9a2997b"
  },
  {
   "cell_type": "markdown",
   "source": [
    "## Sending Commands to the Rover\n",
    "\n",
    "In this project, as in the real world, the perception and decision making steps constitute the bulk of the problem. In this case, the action step is simple! You'll be provided with a function called `send_control()` that you can use to command the rover and display images to the simulator screen. It looks like this:\n",
    "\n",
    "```python\n",
    "def send_control(commands, image_string1, image_string2):\n",
    "    # Define commands to be sent to the rover\n",
    "    data={\n",
    "        'throttle': commands[0].__str__(),\n",
    "        'brake': commands[1].__str__(),\n",
    "        'steering_angle': commands[2].__str__(),\n",
    "        'inset_image1': image_string1,\n",
    "        'inset_image2': image_string2,\n",
    "        }\n",
    "    # Send commands via socketIO server\n",
    "    sio.emit(\n",
    "        \"data\",\n",
    "        data,\n",
    "        skip_sid=True)\n",
    "```\n",
    "\n",
    "This function takes in the argument `commands`, which is a 3-tuple containing the throttle, brake and steering values you have stored in the `Rover.throttle`, ``Rover.brake`` and `Rover.steer` attributes of your `RoverState()` object.\n",
    "\n",
    "The other arguments are called `image_string1` and `image_string2` and will contain your `Rover.vision_image` and `Rover.worldmap` images converted to base64 strings that will be rendered onscreen while you're navigating in autonomous mode.\n",
    "\n",
    "The `send_control()` function creates a dictionary called `data` with all of these values then passes this dictionary to the `sio.emit()` function to send commands and images to the rover. You don't need to worry about exactly how this gets accomplished, just that once you have updated `Rover.throttle`, `Rover.brake` and `Rover.steer`, your `commands` input to `send_control()` will be updated and each time you update `Rover.vision_image` and `Rover.worldmap` the two display images will be updated. And that's all there is to the action step!"
   ],
   "metadata": {
    "collapsed": false
   },
   "id": "22e1a44472214d"
  }
 ],
 "metadata": {
  "kernelspec": {
   "display_name": "Python 3",
   "language": "python",
   "name": "python3"
  },
  "language_info": {
   "codemirror_mode": {
    "name": "ipython",
    "version": 2
   },
   "file_extension": ".py",
   "mimetype": "text/x-python",
   "name": "python",
   "nbconvert_exporter": "python",
   "pygments_lexer": "ipython2",
   "version": "2.7.6"
  }
 },
 "nbformat": 4,
 "nbformat_minor": 5
}
