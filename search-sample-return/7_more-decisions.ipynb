{
 "cells": [
  {
   "cell_type": "markdown",
   "source": [
    "# More Decisions\n",
    "Now you are ready for the next half of the project. Download the simulator and setup the Python environment if you have not already, then migrate your perception steps into `perception.py` and start working on `decision.py`!\n",
    "\n",
    "![alt text](images/screen-shot-2017-04-15-at-4.44.30-pm.png)"
   ],
   "metadata": {
    "collapsed": false
   },
   "id": "bf0db6d868c527e8"
  },
  {
   "cell_type": "markdown",
   "source": [
    "There are essentially an infinite number of considerations you could come up with to base your decisions on, but really you could think of any combination of them as a decision tree, like the one above.\n",
    "\n",
    "This is just a simple example, but as you can imagine, this tree could become very complex, and doesn't necessarily need to be restricted to yes / no scenarios. You could think of this tree as a very basic form of artificial intelligence, where we have simply hardcoded a range of possible scenarios and a decision associated with each. Later in this program we'll be using much more sophisticated algorithms to make decisions but for this first project we'll keep it simple and stick to the basics!"
   ],
   "metadata": {
    "collapsed": false
   },
   "id": "9bad08a52d2310b2"
  },
  {
   "cell_type": "markdown",
   "source": [
    "In this project, you'll be receiving information about the current state of the rover -- things like current position, velocity, orientation, steering angle and more. You'll define a Python class called RoverState() that will allow you to track the changing state of the rover. If you're unfamiliar with classes in Python, check out Udacity's free course on object oriented programming in Python. The default RoverState() provided to you will look like this (but you could add or remove attributes as you like):\n",
    "\n",
    "```python\n",
    "# Define RoverState() class to retain rover state parameters\n",
    "class RoverState():\n",
    "    def __init__(self):\n",
    "        self.start_time = None # To record the start time of navigation\n",
    "        self.total_time = None # To record total duration of naviagation\n",
    "        self.img = None # Current camera image\n",
    "        self.pos = None # Current position (x, y)\n",
    "        self.yaw = None # Current yaw angle\n",
    "        self.pitch = None # Current pitch angle\n",
    "        self.roll = None # Current roll angle\n",
    "        self.vel = None # Current velocity\n",
    "        self.steer = 0 # Current steering angle\n",
    "        self.throttle = 0 # Current throttle value\n",
    "        self.brake = 0 # Current brake value\n",
    "        self.nav_angles = None # Angles of navigable terrain pixels\n",
    "        self.nav_dists = None # Distances of navigable terrain pixels\n",
    "        self.ground_truth = ground_truth_3d # Ground truth worldmap\n",
    "        self.mode = 'forward' # Current mode (can be forward or stop)\n",
    "        self.throttle_set = 0.2 # Throttle setting when accelerating\n",
    "        self.brake_set = 10 # Brake setting when braking\n",
    "        # The stop_forward and go_forward fields below represent total count\n",
    "        # of navigable terrain pixels.  This is a very crude form of knowing\n",
    "        # when you can keep going and when you should stop.  Feel free to\n",
    "        # get creative in adding new fields or modifying these!\n",
    "        self.stop_forward = 50 # Threshold to initiate stopping\n",
    "        self.go_forward = 500 # Threshold to go forward again\n",
    "        self.max_vel = 2 # Maximum velocity (meters/second)\n",
    "        # Image output from perception step\n",
    "        # Update this image to display your intermediate analysis steps\n",
    "        # on screen in autonomous mode\n",
    "        self.vision_image = np.zeros((160, 320, 3), dtype=np.float) \n",
    "        # Worldmap\n",
    "        # Update this image with the positions of navigable terrain\n",
    "        # obstacles and rock samples\n",
    "        self.worldmap = np.zeros((200, 200, 3), dtype=np.float) \n",
    "        self.samples_pos = None # To store the actual sample positions\n",
    "        self.samples_found = 0 # To count the number of samples found\n",
    "        self.near_sample = False # Set to True if within reach of a rock sample\n",
    "        self.pick_up = False # Set to True to trigger rock pickup\n",
    "```\n",
    "\n",
    "\n",
    "You can then create an instance of this class:\n",
    "\n",
    "```python\n",
    "Rover = RoverState()\n",
    "```\n",
    "\n",
    "Now you can update Rover with each new set of telemetry values, for example:\n",
    "\n",
    "```python\n",
    "Rover.vel = new_velocity_from_telemetry\n",
    "Rover.yaw = new_yaw_from_telemetry\n",
    "```\n",
    "\n",
    "you can create a decision tree like the one pictured above using conditional statements to decide what to do next based on current telemetry and / or your analysis, for example:\n",
    "\n",
    "```python\n",
    "if Rover.vel >= Rover.max_vel:\n",
    "    Rover.throttle = 0\n",
    "else:\n",
    "    Rover.throttle = Rover.throttle_set\n",
    "```\n",
    "\n",
    "You now have the ability to send commands to the rover to change throttle, brake, steering angle and take action!\n",
    "\n"
   ],
   "metadata": {
    "collapsed": false
   },
   "id": "256ea30d9f808754"
  },
  {
   "cell_type": "code",
   "outputs": [],
   "source": [],
   "metadata": {
    "collapsed": false
   },
   "id": "af35f41b95727e2b"
  }
 ],
 "metadata": {
  "kernelspec": {
   "display_name": "Python 3",
   "language": "python",
   "name": "python3"
  },
  "language_info": {
   "codemirror_mode": {
    "name": "ipython",
    "version": 2
   },
   "file_extension": ".py",
   "mimetype": "text/x-python",
   "name": "python",
   "nbconvert_exporter": "python",
   "pygments_lexer": "ipython2",
   "version": "2.7.6"
  }
 },
 "nbformat": 4,
 "nbformat_minor": 5
}
